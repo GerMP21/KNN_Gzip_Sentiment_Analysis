{
 "cells": [
  {
   "cell_type": "markdown",
   "id": "e78d6aae",
   "metadata": {
    "papermill": {
     "duration": 0.008691,
     "end_time": "2023-12-18T22:30:46.300776",
     "exception": false,
     "start_time": "2023-12-18T22:30:46.292085",
     "status": "completed"
    },
    "tags": []
   },
   "source": [
    "# K Nearest Neighbors with Gzip"
   ]
  },
  {
   "cell_type": "markdown",
   "id": "e3472337",
   "metadata": {
    "papermill": {
     "duration": 0.007868,
     "end_time": "2023-12-18T22:30:46.316734",
     "exception": false,
     "start_time": "2023-12-18T22:30:46.308866",
     "status": "completed"
    },
    "tags": []
   },
   "source": [
    "An implementation of K Nearest Neighbors using Gzip Normalized Compression Distances as embedding to train it "
   ]
  },
  {
   "cell_type": "markdown",
   "id": "b8a60a00",
   "metadata": {
    "papermill": {
     "duration": 0.007735,
     "end_time": "2023-12-18T22:30:46.332388",
     "exception": false,
     "start_time": "2023-12-18T22:30:46.324653",
     "status": "completed"
    },
    "tags": []
   },
   "source": [
    "## Imports"
   ]
  },
  {
   "cell_type": "code",
   "execution_count": 1,
   "id": "90256663",
   "metadata": {
    "_cell_guid": "b1076dfc-b9ad-4769-8c92-a6c4dae69d19",
    "_uuid": "8f2839f25d086af736a60e9eeb907d3b93b6e0e5",
    "execution": {
     "iopub.execute_input": "2023-12-18T22:30:46.351089Z",
     "iopub.status.busy": "2023-12-18T22:30:46.350069Z",
     "iopub.status.idle": "2023-12-18T22:30:48.332047Z",
     "shell.execute_reply": "2023-12-18T22:30:48.330567Z"
    },
    "papermill": {
     "duration": 1.994817,
     "end_time": "2023-12-18T22:30:48.335249",
     "exception": false,
     "start_time": "2023-12-18T22:30:46.340432",
     "status": "completed"
    },
    "tags": []
   },
   "outputs": [
    {
     "name": "stderr",
     "output_type": "stream",
     "text": [
      "/opt/conda/lib/python3.10/site-packages/scipy/__init__.py:146: UserWarning: A NumPy version >=1.16.5 and <1.23.0 is required for this version of SciPy (detected version 1.23.5\n",
      "  warnings.warn(f\"A NumPy version >={np_minversion} and <{np_maxversion}\"\n"
     ]
    }
   ],
   "source": [
    "import gzip\n",
    "import time\n",
    "import pickle\n",
    "import multiprocessing\n",
    "import warnings\n",
    "import numpy as np\n",
    "import pandas as pd\n",
    "from sklearn.model_selection import train_test_split\n",
    "from sklearn.neighbors import KNeighborsClassifier\n",
    "from sklearn.metrics import accuracy_score"
   ]
  },
  {
   "cell_type": "markdown",
   "id": "b0e66948",
   "metadata": {
    "papermill": {
     "duration": 0.008234,
     "end_time": "2023-12-18T22:30:48.352135",
     "exception": false,
     "start_time": "2023-12-18T22:30:48.343901",
     "status": "completed"
    },
    "tags": []
   },
   "source": [
    "## Load Dataset"
   ]
  },
  {
   "cell_type": "code",
   "execution_count": 2,
   "id": "85691bad",
   "metadata": {
    "execution": {
     "iopub.execute_input": "2023-12-18T22:30:48.370832Z",
     "iopub.status.busy": "2023-12-18T22:30:48.370377Z",
     "iopub.status.idle": "2023-12-18T22:30:48.728901Z",
     "shell.execute_reply": "2023-12-18T22:30:48.727857Z"
    },
    "papermill": {
     "duration": 0.371067,
     "end_time": "2023-12-18T22:30:48.731637",
     "exception": false,
     "start_time": "2023-12-18T22:30:48.360570",
     "status": "completed"
    },
    "tags": []
   },
   "outputs": [],
   "source": [
    "# There are a total of 24639 samples\n",
    "n_samples = 5000\n",
    "\n",
    "df = pd.read_csv('/kaggle/input/sentiment-and-emotions-of-tweets/sentiment-emotion-labelled_Dell_tweets.csv')\n",
    "df = df.truncate(0, n_samples)"
   ]
  },
  {
   "cell_type": "markdown",
   "id": "95033fb1",
   "metadata": {
    "papermill": {
     "duration": 0.007884,
     "end_time": "2023-12-18T22:30:48.748052",
     "exception": false,
     "start_time": "2023-12-18T22:30:48.740168",
     "status": "completed"
    },
    "tags": []
   },
   "source": [
    "## Variables definition"
   ]
  },
  {
   "cell_type": "code",
   "execution_count": 3,
   "id": "96aee774",
   "metadata": {
    "execution": {
     "iopub.execute_input": "2023-12-18T22:30:48.768963Z",
     "iopub.status.busy": "2023-12-18T22:30:48.768134Z",
     "iopub.status.idle": "2023-12-18T22:30:48.782704Z",
     "shell.execute_reply": "2023-12-18T22:30:48.781493Z"
    },
    "papermill": {
     "duration": 0.027318,
     "end_time": "2023-12-18T22:30:48.785399",
     "exception": false,
     "start_time": "2023-12-18T22:30:48.758081",
     "status": "completed"
    },
    "tags": []
   },
   "outputs": [
    {
     "data": {
      "text/plain": [
       "0    @Logitech @apple @Google @Microsoft @Dell @Len...\n",
       "1    @MK_habit_addict @official_stier @MortalKombat...\n",
       "2    As @CRN celebrates its 40th anniversary, Bob F...\n",
       "3    @dell your customer service is horrible especi...\n",
       "4    @zacokalo @Dell @DellCares @Dell give the man ...\n",
       "Name: Text, dtype: object"
      ]
     },
     "execution_count": 3,
     "metadata": {},
     "output_type": "execute_result"
    }
   ],
   "source": [
    "X = df['Text']\n",
    "X.head()"
   ]
  },
  {
   "cell_type": "code",
   "execution_count": 4,
   "id": "5a9d200f",
   "metadata": {
    "execution": {
     "iopub.execute_input": "2023-12-18T22:30:48.805065Z",
     "iopub.status.busy": "2023-12-18T22:30:48.803787Z",
     "iopub.status.idle": "2023-12-18T22:30:48.813153Z",
     "shell.execute_reply": "2023-12-18T22:30:48.812009Z"
    },
    "papermill": {
     "duration": 0.022131,
     "end_time": "2023-12-18T22:30:48.815781",
     "exception": false,
     "start_time": "2023-12-18T22:30:48.793650",
     "status": "completed"
    },
    "tags": []
   },
   "outputs": [
    {
     "data": {
      "text/plain": [
       "0     neutral\n",
       "1     neutral\n",
       "2    positive\n",
       "3    negative\n",
       "4     neutral\n",
       "Name: sentiment, dtype: object"
      ]
     },
     "execution_count": 4,
     "metadata": {},
     "output_type": "execute_result"
    }
   ],
   "source": [
    "y = df['sentiment']\n",
    "y.head()"
   ]
  },
  {
   "cell_type": "markdown",
   "id": "12eaa795",
   "metadata": {
    "papermill": {
     "duration": 0.008537,
     "end_time": "2023-12-18T22:30:48.832639",
     "exception": false,
     "start_time": "2023-12-18T22:30:48.824102",
     "status": "completed"
    },
    "tags": []
   },
   "source": [
    "## Data Cleaning and Preparation"
   ]
  },
  {
   "cell_type": "code",
   "execution_count": 5,
   "id": "5158b519",
   "metadata": {
    "execution": {
     "iopub.execute_input": "2023-12-18T22:30:48.853000Z",
     "iopub.status.busy": "2023-12-18T22:30:48.851564Z",
     "iopub.status.idle": "2023-12-18T22:30:48.893665Z",
     "shell.execute_reply": "2023-12-18T22:30:48.892346Z"
    },
    "papermill": {
     "duration": 0.055027,
     "end_time": "2023-12-18T22:30:48.896357",
     "exception": false,
     "start_time": "2023-12-18T22:30:48.841330",
     "status": "completed"
    },
    "tags": []
   },
   "outputs": [
    {
     "data": {
      "text/plain": [
       "0           QWERTY were modified for programmers so...\n",
       "1        She's getting a new   when the one she has...\n",
       "2    As  its 40th anniversary, Bob Faletra and  wit...\n",
       "3     your customer service is horrible especially ...\n",
       "4                       give the man what he paid for!\n",
       "Name: Text, dtype: object"
      ]
     },
     "execution_count": 5,
     "metadata": {},
     "output_type": "execute_result"
    }
   ],
   "source": [
    "X = X.str.replace(r'@[^ ]+', '', regex=True) # Remove tagged users\n",
    "X = X.str.replace(r'#[^ ]+', '', regex=True) # Remove hashtags\n",
    "X = X.str.replace(r'http[^ ]+', '', regex=True) # Remove hashtags\n",
    "X.head()"
   ]
  },
  {
   "cell_type": "code",
   "execution_count": 6,
   "id": "db0eddcc",
   "metadata": {
    "execution": {
     "iopub.execute_input": "2023-12-18T22:30:48.916102Z",
     "iopub.status.busy": "2023-12-18T22:30:48.915428Z",
     "iopub.status.idle": "2023-12-18T22:30:48.936458Z",
     "shell.execute_reply": "2023-12-18T22:30:48.935104Z"
    },
    "papermill": {
     "duration": 0.034123,
     "end_time": "2023-12-18T22:30:48.939208",
     "exception": false,
     "start_time": "2023-12-18T22:30:48.905085",
     "status": "completed"
    },
    "tags": []
   },
   "outputs": [
    {
     "data": {
      "text/plain": [
       "0    0\n",
       "1    0\n",
       "2    1\n",
       "3   -1\n",
       "4    0\n",
       "Name: sentiment, dtype: int64"
      ]
     },
     "execution_count": 6,
     "metadata": {},
     "output_type": "execute_result"
    }
   ],
   "source": [
    "y_labels = {\n",
    "    'positive': 1,\n",
    "    'neutral': 0,\n",
    "    'negative': -1\n",
    "}\n",
    "\n",
    "y = y.map(y_labels) # Map string labels to integers\n",
    "y.head()"
   ]
  },
  {
   "cell_type": "markdown",
   "id": "57d7d494",
   "metadata": {
    "papermill": {
     "duration": 0.008571,
     "end_time": "2023-12-18T22:30:48.957933",
     "exception": false,
     "start_time": "2023-12-18T22:30:48.949362",
     "status": "completed"
    },
    "tags": []
   },
   "source": [
    "## Train/Test splitting"
   ]
  },
  {
   "cell_type": "code",
   "execution_count": 7,
   "id": "33adf9d8",
   "metadata": {
    "execution": {
     "iopub.execute_input": "2023-12-18T22:30:48.978404Z",
     "iopub.status.busy": "2023-12-18T22:30:48.976918Z",
     "iopub.status.idle": "2023-12-18T22:30:48.993202Z",
     "shell.execute_reply": "2023-12-18T22:30:48.991637Z"
    },
    "papermill": {
     "duration": 0.029434,
     "end_time": "2023-12-18T22:30:48.996174",
     "exception": false,
     "start_time": "2023-12-18T22:30:48.966740",
     "status": "completed"
    },
    "tags": []
   },
   "outputs": [],
   "source": [
    "X_train, X_test, y_train, y_test = train_test_split(X, y,\n",
    "                                                    test_size=0.2,\n",
    "                                                    random_state=1, \n",
    "                                                    stratify=y)"
   ]
  },
  {
   "cell_type": "markdown",
   "id": "7d10a002",
   "metadata": {
    "papermill": {
     "duration": 0.009556,
     "end_time": "2023-12-18T22:30:49.015716",
     "exception": false,
     "start_time": "2023-12-18T22:30:49.006160",
     "status": "completed"
    },
    "tags": []
   },
   "source": [
    "## How to Normalize Compression Distances"
   ]
  },
  {
   "cell_type": "code",
   "execution_count": 8,
   "id": "e29ae793",
   "metadata": {
    "execution": {
     "iopub.execute_input": "2023-12-18T22:30:49.037309Z",
     "iopub.status.busy": "2023-12-18T22:30:49.036471Z",
     "iopub.status.idle": "2023-12-18T22:30:49.046380Z",
     "shell.execute_reply": "2023-12-18T22:30:49.045408Z"
    },
    "papermill": {
     "duration": 0.024972,
     "end_time": "2023-12-18T22:30:49.049642",
     "exception": false,
     "start_time": "2023-12-18T22:30:49.024670",
     "status": "completed"
    },
    "tags": []
   },
   "outputs": [
    {
     "data": {
      "text/plain": [
       "177"
      ]
     },
     "execution_count": 8,
     "metadata": {},
     "output_type": "execute_result"
    }
   ],
   "source": [
    "X1_compressed = len(gzip.compress(X_train[0].encode()))\n",
    "X1_compressed"
   ]
  },
  {
   "cell_type": "code",
   "execution_count": 9,
   "id": "6aaaf71b",
   "metadata": {
    "execution": {
     "iopub.execute_input": "2023-12-18T22:30:49.071103Z",
     "iopub.status.busy": "2023-12-18T22:30:49.070401Z",
     "iopub.status.idle": "2023-12-18T22:30:49.077905Z",
     "shell.execute_reply": "2023-12-18T22:30:49.076539Z"
    },
    "papermill": {
     "duration": 0.022043,
     "end_time": "2023-12-18T22:30:49.080742",
     "exception": false,
     "start_time": "2023-12-18T22:30:49.058699",
     "status": "completed"
    },
    "tags": []
   },
   "outputs": [
    {
     "data": {
      "text/plain": [
       "121"
      ]
     },
     "execution_count": 9,
     "metadata": {},
     "output_type": "execute_result"
    }
   ],
   "source": [
    "X2_compressed = len(gzip.compress(X_train[1].encode()))\n",
    "X2_compressed"
   ]
  },
  {
   "cell_type": "code",
   "execution_count": 10,
   "id": "713dd35f",
   "metadata": {
    "execution": {
     "iopub.execute_input": "2023-12-18T22:30:49.101293Z",
     "iopub.status.busy": "2023-12-18T22:30:49.100657Z",
     "iopub.status.idle": "2023-12-18T22:30:49.109527Z",
     "shell.execute_reply": "2023-12-18T22:30:49.108297Z"
    },
    "papermill": {
     "duration": 0.022576,
     "end_time": "2023-12-18T22:30:49.112422",
     "exception": false,
     "start_time": "2023-12-18T22:30:49.089846",
     "status": "completed"
    },
    "tags": []
   },
   "outputs": [
    {
     "data": {
      "text/plain": [
       "255"
      ]
     },
     "execution_count": 10,
     "metadata": {},
     "output_type": "execute_result"
    }
   ],
   "source": [
    "XX = len(gzip.compress((\" \".join([X_train[0], X_train[1]])).encode()))\n",
    "XX"
   ]
  },
  {
   "cell_type": "code",
   "execution_count": 11,
   "id": "d193e8f1",
   "metadata": {
    "execution": {
     "iopub.execute_input": "2023-12-18T22:30:49.134400Z",
     "iopub.status.busy": "2023-12-18T22:30:49.133649Z",
     "iopub.status.idle": "2023-12-18T22:30:49.140348Z",
     "shell.execute_reply": "2023-12-18T22:30:49.139313Z"
    },
    "papermill": {
     "duration": 0.020572,
     "end_time": "2023-12-18T22:30:49.142890",
     "exception": false,
     "start_time": "2023-12-18T22:30:49.122318",
     "status": "completed"
    },
    "tags": []
   },
   "outputs": [
    {
     "data": {
      "text/plain": [
       "0.7570621468926554"
      ]
     },
     "execution_count": 11,
     "metadata": {},
     "output_type": "execute_result"
    }
   ],
   "source": [
    "NCD = (XX - min(X1_compressed, X2_compressed)) / max(X1_compressed, X2_compressed)\n",
    "NCD"
   ]
  },
  {
   "cell_type": "markdown",
   "id": "74d39853",
   "metadata": {
    "papermill": {
     "duration": 0.008964,
     "end_time": "2023-12-18T22:30:49.161339",
     "exception": false,
     "start_time": "2023-12-18T22:30:49.152375",
     "status": "completed"
    },
    "tags": []
   },
   "source": [
    "## Compression Distance Normalization"
   ]
  },
  {
   "cell_type": "code",
   "execution_count": 12,
   "id": "bbde67cf",
   "metadata": {
    "execution": {
     "iopub.execute_input": "2023-12-18T22:30:49.182493Z",
     "iopub.status.busy": "2023-12-18T22:30:49.181784Z",
     "iopub.status.idle": "2023-12-18T22:30:49.189976Z",
     "shell.execute_reply": "2023-12-18T22:30:49.188309Z"
    },
    "papermill": {
     "duration": 0.023819,
     "end_time": "2023-12-18T22:30:49.194547",
     "exception": false,
     "start_time": "2023-12-18T22:30:49.170728",
     "status": "completed"
    },
    "tags": []
   },
   "outputs": [],
   "source": [
    "def calculate_ncd(x1, x2):\n",
    "    X1_compressed = len(gzip.compress(x1.encode()))\n",
    "    X2_compressed = len(gzip.compress(x2.encode()))  \n",
    "    XX = len(gzip.compress((\" \".join([x1, x2])).encode()))\n",
    "  \n",
    "    NCD = (XX - min(X1_compressed, X2_compressed)) / max(X1_compressed, X2_compressed)\n",
    "    return NCD"
   ]
  },
  {
   "cell_type": "code",
   "execution_count": 13,
   "id": "ddf03970",
   "metadata": {
    "execution": {
     "iopub.execute_input": "2023-12-18T22:30:49.220206Z",
     "iopub.status.busy": "2023-12-18T22:30:49.219745Z",
     "iopub.status.idle": "2023-12-18T22:30:49.227594Z",
     "shell.execute_reply": "2023-12-18T22:30:49.226305Z"
    },
    "papermill": {
     "duration": 0.022069,
     "end_time": "2023-12-18T22:30:49.230354",
     "exception": false,
     "start_time": "2023-12-18T22:30:49.208285",
     "status": "completed"
    },
    "tags": []
   },
   "outputs": [],
   "source": [
    "def calculate_train_ncd(X_train):\n",
    "   NCD = [[calculate_ncd(X_train.iloc[i], X_train.iloc[j]) for j in range(len(X_train))] for i in range(len(X_train))]\n",
    "   return NCD\n",
    "\n",
    "def calculate_test_ncd(X_test, X_train):\n",
    "   NCD = [[calculate_ncd(X_test.iloc[i], X_train.iloc[j]) for j in range(len(X_train))] for i in range(len(X_test))]\n",
    "   return NCD"
   ]
  },
  {
   "cell_type": "code",
   "execution_count": 14,
   "id": "6451599e",
   "metadata": {
    "execution": {
     "iopub.execute_input": "2023-12-18T22:30:49.253967Z",
     "iopub.status.busy": "2023-12-18T22:30:49.253039Z",
     "iopub.status.idle": "2023-12-18T23:17:53.784873Z",
     "shell.execute_reply": "2023-12-18T23:17:53.782545Z"
    },
    "papermill": {
     "duration": 2824.547669,
     "end_time": "2023-12-18T23:17:53.788513",
     "exception": false,
     "start_time": "2023-12-18T22:30:49.240844",
     "status": "completed"
    },
    "tags": []
   },
   "outputs": [],
   "source": [
    "CPU_CORES = multiprocessing.cpu_count()\n",
    "\n",
    "with multiprocessing.Pool(CPU_CORES) as pool:\n",
    "    train_NCD = pool.apply(calculate_train_ncd, [X_train])\n",
    "\n",
    "with multiprocessing.Pool(CPU_CORES) as pool:\n",
    "    test_NCD = pool.apply_async(calculate_test_ncd, args=(X_test, X_train))\n",
    "    test_NCD = test_NCD.get()"
   ]
  },
  {
   "cell_type": "markdown",
   "id": "2e8d6592",
   "metadata": {
    "papermill": {
     "duration": 0.010337,
     "end_time": "2023-12-18T23:17:53.808975",
     "exception": false,
     "start_time": "2023-12-18T23:17:53.798638",
     "status": "completed"
    },
    "tags": []
   },
   "source": [
    "## Training"
   ]
  },
  {
   "cell_type": "code",
   "execution_count": 15,
   "id": "859edabb",
   "metadata": {
    "execution": {
     "iopub.execute_input": "2023-12-18T23:17:53.831366Z",
     "iopub.status.busy": "2023-12-18T23:17:53.830012Z",
     "iopub.status.idle": "2023-12-18T23:18:02.197102Z",
     "shell.execute_reply": "2023-12-18T23:18:02.195990Z"
    },
    "papermill": {
     "duration": 8.381551,
     "end_time": "2023-12-18T23:18:02.200198",
     "exception": false,
     "start_time": "2023-12-18T23:17:53.818647",
     "status": "completed"
    },
    "tags": []
   },
   "outputs": [
    {
     "data": {
      "text/html": [
       "<style>#sk-container-id-1 {color: black;background-color: white;}#sk-container-id-1 pre{padding: 0;}#sk-container-id-1 div.sk-toggleable {background-color: white;}#sk-container-id-1 label.sk-toggleable__label {cursor: pointer;display: block;width: 100%;margin-bottom: 0;padding: 0.3em;box-sizing: border-box;text-align: center;}#sk-container-id-1 label.sk-toggleable__label-arrow:before {content: \"▸\";float: left;margin-right: 0.25em;color: #696969;}#sk-container-id-1 label.sk-toggleable__label-arrow:hover:before {color: black;}#sk-container-id-1 div.sk-estimator:hover label.sk-toggleable__label-arrow:before {color: black;}#sk-container-id-1 div.sk-toggleable__content {max-height: 0;max-width: 0;overflow: hidden;text-align: left;background-color: #f0f8ff;}#sk-container-id-1 div.sk-toggleable__content pre {margin: 0.2em;color: black;border-radius: 0.25em;background-color: #f0f8ff;}#sk-container-id-1 input.sk-toggleable__control:checked~div.sk-toggleable__content {max-height: 200px;max-width: 100%;overflow: auto;}#sk-container-id-1 input.sk-toggleable__control:checked~label.sk-toggleable__label-arrow:before {content: \"▾\";}#sk-container-id-1 div.sk-estimator input.sk-toggleable__control:checked~label.sk-toggleable__label {background-color: #d4ebff;}#sk-container-id-1 div.sk-label input.sk-toggleable__control:checked~label.sk-toggleable__label {background-color: #d4ebff;}#sk-container-id-1 input.sk-hidden--visually {border: 0;clip: rect(1px 1px 1px 1px);clip: rect(1px, 1px, 1px, 1px);height: 1px;margin: -1px;overflow: hidden;padding: 0;position: absolute;width: 1px;}#sk-container-id-1 div.sk-estimator {font-family: monospace;background-color: #f0f8ff;border: 1px dotted black;border-radius: 0.25em;box-sizing: border-box;margin-bottom: 0.5em;}#sk-container-id-1 div.sk-estimator:hover {background-color: #d4ebff;}#sk-container-id-1 div.sk-parallel-item::after {content: \"\";width: 100%;border-bottom: 1px solid gray;flex-grow: 1;}#sk-container-id-1 div.sk-label:hover label.sk-toggleable__label {background-color: #d4ebff;}#sk-container-id-1 div.sk-serial::before {content: \"\";position: absolute;border-left: 1px solid gray;box-sizing: border-box;top: 0;bottom: 0;left: 50%;z-index: 0;}#sk-container-id-1 div.sk-serial {display: flex;flex-direction: column;align-items: center;background-color: white;padding-right: 0.2em;padding-left: 0.2em;position: relative;}#sk-container-id-1 div.sk-item {position: relative;z-index: 1;}#sk-container-id-1 div.sk-parallel {display: flex;align-items: stretch;justify-content: center;background-color: white;position: relative;}#sk-container-id-1 div.sk-item::before, #sk-container-id-1 div.sk-parallel-item::before {content: \"\";position: absolute;border-left: 1px solid gray;box-sizing: border-box;top: 0;bottom: 0;left: 50%;z-index: -1;}#sk-container-id-1 div.sk-parallel-item {display: flex;flex-direction: column;z-index: 1;position: relative;background-color: white;}#sk-container-id-1 div.sk-parallel-item:first-child::after {align-self: flex-end;width: 50%;}#sk-container-id-1 div.sk-parallel-item:last-child::after {align-self: flex-start;width: 50%;}#sk-container-id-1 div.sk-parallel-item:only-child::after {width: 0;}#sk-container-id-1 div.sk-dashed-wrapped {border: 1px dashed gray;margin: 0 0.4em 0.5em 0.4em;box-sizing: border-box;padding-bottom: 0.4em;background-color: white;}#sk-container-id-1 div.sk-label label {font-family: monospace;font-weight: bold;display: inline-block;line-height: 1.2em;}#sk-container-id-1 div.sk-label-container {text-align: center;}#sk-container-id-1 div.sk-container {/* jupyter's `normalize.less` sets `[hidden] { display: none; }` but bootstrap.min.css set `[hidden] { display: none !important; }` so we also need the `!important` here to be able to override the default hidden behavior on the sphinx rendered scikit-learn.org. See: https://github.com/scikit-learn/scikit-learn/issues/21755 */display: inline-block !important;position: relative;}#sk-container-id-1 div.sk-text-repr-fallback {display: none;}</style><div id=\"sk-container-id-1\" class=\"sk-top-container\"><div class=\"sk-text-repr-fallback\"><pre>KNeighborsClassifier(n_neighbors=7)</pre><b>In a Jupyter environment, please rerun this cell to show the HTML representation or trust the notebook. <br />On GitHub, the HTML representation is unable to render, please try loading this page with nbviewer.org.</b></div><div class=\"sk-container\" hidden><div class=\"sk-item\"><div class=\"sk-estimator sk-toggleable\"><input class=\"sk-toggleable__control sk-hidden--visually\" id=\"sk-estimator-id-1\" type=\"checkbox\" checked><label for=\"sk-estimator-id-1\" class=\"sk-toggleable__label sk-toggleable__label-arrow\">KNeighborsClassifier</label><div class=\"sk-toggleable__content\"><pre>KNeighborsClassifier(n_neighbors=7)</pre></div></div></div></div></div>"
      ],
      "text/plain": [
       "KNeighborsClassifier(n_neighbors=7)"
      ]
     },
     "execution_count": 15,
     "metadata": {},
     "output_type": "execute_result"
    }
   ],
   "source": [
    "# KNN classification\n",
    "knn4 = KNeighborsClassifier(n_neighbors=4) \n",
    "knn4.fit(train_NCD, y_train)\n",
    "knn5 = KNeighborsClassifier(n_neighbors=5) \n",
    "knn5.fit(train_NCD, y_train)\n",
    "knn6 = KNeighborsClassifier(n_neighbors=6) \n",
    "knn6.fit(train_NCD, y_train)\n",
    "knn7 = KNeighborsClassifier(n_neighbors=7) \n",
    "knn7.fit(train_NCD, y_train)\n"
   ]
  },
  {
   "cell_type": "code",
   "execution_count": 16,
   "id": "f14d1ffc",
   "metadata": {
    "execution": {
     "iopub.execute_input": "2023-12-18T23:18:02.223226Z",
     "iopub.status.busy": "2023-12-18T23:18:02.222802Z",
     "iopub.status.idle": "2023-12-18T23:18:06.807308Z",
     "shell.execute_reply": "2023-12-18T23:18:06.805714Z"
    },
    "papermill": {
     "duration": 4.599767,
     "end_time": "2023-12-18T23:18:06.810586",
     "exception": false,
     "start_time": "2023-12-18T23:18:02.210819",
     "status": "completed"
    },
    "tags": []
   },
   "outputs": [
    {
     "name": "stdout",
     "output_type": "stream",
     "text": [
      "Accuracy:  0.6313686313686314\n",
      "Accuracy:  0.6373626373626373\n",
      "Accuracy:  0.6363636363636364\n",
      "Accuracy:  0.6523476523476524\n"
     ]
    }
   ],
   "source": [
    "y_pred4 = knn4.predict(test_NCD)\n",
    "y_pred5 = knn5.predict(test_NCD)\n",
    "y_pred6 = knn6.predict(test_NCD)\n",
    "y_pred7 = knn7.predict(test_NCD)\n",
    "\n",
    "\n",
    "score4 = accuracy_score(y_test, y_pred4, normalize=True)\n",
    "print('Accuracy: ', score4)\n",
    "score5 = accuracy_score(y_test, y_pred5, normalize=True)\n",
    "print('Accuracy: ', score5)\n",
    "score6 = accuracy_score(y_test, y_pred6, normalize=True)\n",
    "print('Accuracy: ', score6)\n",
    "score7 = accuracy_score(y_test, y_pred7, normalize=True)\n",
    "print('Accuracy: ', score7)"
   ]
  }
 ],
 "metadata": {
  "kaggle": {
   "accelerator": "none",
   "dataSources": [
    {
     "datasetId": 3408349,
     "sourceId": 5938395,
     "sourceType": "datasetVersion"
    }
   ],
   "dockerImageVersionId": 30527,
   "isGpuEnabled": false,
   "isInternetEnabled": true,
   "language": "python",
   "sourceType": "notebook"
  },
  "kernelspec": {
   "display_name": "Python 3",
   "language": "python",
   "name": "python3"
  },
  "language_info": {
   "codemirror_mode": {
    "name": "ipython",
    "version": 3
   },
   "file_extension": ".py",
   "mimetype": "text/x-python",
   "name": "python",
   "nbconvert_exporter": "python",
   "pygments_lexer": "ipython3",
   "version": "3.10.12"
  },
  "papermill": {
   "default_parameters": {},
   "duration": 2858.199936,
   "end_time": "2023-12-18T23:18:08.454993",
   "environment_variables": {},
   "exception": null,
   "input_path": "__notebook__.ipynb",
   "output_path": "__notebook__.ipynb",
   "parameters": {},
   "start_time": "2023-12-18T22:30:30.255057",
   "version": "2.4.0"
  }
 },
 "nbformat": 4,
 "nbformat_minor": 5
}
